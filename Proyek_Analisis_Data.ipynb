{
  "cells": [
    {
      "cell_type": "markdown",
      "metadata": {
        "id": "view-in-github",
        "colab_type": "text"
      },
      "source": [
        "<a href=\"https://colab.research.google.com/github/hid30/Proyek_Analisis_Data_Deosa/blob/main/Proyek_Analisis_Data.ipynb\" target=\"_parent\"><img src=\"https://colab.research.google.com/assets/colab-badge.svg\" alt=\"Open In Colab\"/></a>"
      ]
    },
    {
      "cell_type": "markdown",
      "metadata": {
        "id": "H9wADwK78DCz"
      },
      "source": [
        "# Proyek Analisis Data: [Bike Sharing DataSet]\n",
        "- **Nama:** [Deosa Putra Caniago]\n",
        "- **Email:** [deozaofficial@gmail.com]\n",
        "- **ID Dicoding:** [hid30]"
      ]
    },
    {
      "cell_type": "markdown",
      "metadata": {
        "id": "eE0raob58DC0"
      },
      "source": [
        "## Menentukan Pertanyaan Bisnis"
      ]
    },
    {
      "cell_type": "markdown",
      "metadata": {
        "id": "GmQeQ5YF8DC0"
      },
      "source": [
        "- Pertanyaan 1: Bagaimana pengaruh cuaca terhadap jumlah sepeda yang disewa?\n",
        "- Pertanyaan 2: Bagaimana perbedaan pola penyewaan pada hari kerja (workingday) dan hari libur (holiday)"
      ]
    },
    {
      "cell_type": "markdown",
      "metadata": {
        "id": "H-z4QGlO8DC1"
      },
      "source": [
        "## Import Semua Packages/Library yang Digunakan"
      ]
    },
    {
      "cell_type": "code",
      "execution_count": 1,
      "metadata": {
        "id": "FVYwaObI8DC1"
      },
      "outputs": [],
      "source": [
        "# Import library (jika belum ada di sel sebelumnya)\n",
        "import pandas as pd\n",
        "import numpy as np\n",
        "import matplotlib.pyplot as plt\n",
        "import seaborn as sns\n",
        ""
      ]
    },
    {
      "cell_type": "markdown",
      "metadata": {
        "id": "h_Sh51Xy8DC1"
      },
      "source": [
        "## Data Wrangling"
      ]
    },
    {
      "cell_type": "markdown",
      "source": [],
      "metadata": {
        "id": "aWs7-1sXc3cq"
      }
    },
    {
      "cell_type": "code",
      "source": [],
      "metadata": {
        "id": "I4GfykzYc4gr"
      },
      "execution_count": null,
      "outputs": []
    },
    {
      "cell_type": "markdown",
      "metadata": {
        "id": "sXU2GBYu8DC1"
      },
      "source": [
        "### Gathering Data"
      ]
    },
    {
      "cell_type": "code",
      "source": [
        "from google.colab import files\n",
        "\n",
        "uploaded = files.upload()  # Akan muncul pop-up untuk memilih file\n"
      ],
      "metadata": {
        "id": "6em9yfj8c5eS",
        "outputId": "ffd20ead-e283-4c67-dfe5-e9787a9da386",
        "colab": {
          "base_uri": "https://localhost:8080/",
          "height": 73
        }
      },
      "execution_count": 11,
      "outputs": [
        {
          "output_type": "display_data",
          "data": {
            "text/plain": [
              "<IPython.core.display.HTML object>"
            ],
            "text/html": [
              "\n",
              "     <input type=\"file\" id=\"files-b7f7ff97-b049-4ffa-b3c1-0790acfb5694\" name=\"files[]\" multiple disabled\n",
              "        style=\"border:none\" />\n",
              "     <output id=\"result-b7f7ff97-b049-4ffa-b3c1-0790acfb5694\">\n",
              "      Upload widget is only available when the cell has been executed in the\n",
              "      current browser session. Please rerun this cell to enable.\n",
              "      </output>\n",
              "      <script>// Copyright 2017 Google LLC\n",
              "//\n",
              "// Licensed under the Apache License, Version 2.0 (the \"License\");\n",
              "// you may not use this file except in compliance with the License.\n",
              "// You may obtain a copy of the License at\n",
              "//\n",
              "//      http://www.apache.org/licenses/LICENSE-2.0\n",
              "//\n",
              "// Unless required by applicable law or agreed to in writing, software\n",
              "// distributed under the License is distributed on an \"AS IS\" BASIS,\n",
              "// WITHOUT WARRANTIES OR CONDITIONS OF ANY KIND, either express or implied.\n",
              "// See the License for the specific language governing permissions and\n",
              "// limitations under the License.\n",
              "\n",
              "/**\n",
              " * @fileoverview Helpers for google.colab Python module.\n",
              " */\n",
              "(function(scope) {\n",
              "function span(text, styleAttributes = {}) {\n",
              "  const element = document.createElement('span');\n",
              "  element.textContent = text;\n",
              "  for (const key of Object.keys(styleAttributes)) {\n",
              "    element.style[key] = styleAttributes[key];\n",
              "  }\n",
              "  return element;\n",
              "}\n",
              "\n",
              "// Max number of bytes which will be uploaded at a time.\n",
              "const MAX_PAYLOAD_SIZE = 100 * 1024;\n",
              "\n",
              "function _uploadFiles(inputId, outputId) {\n",
              "  const steps = uploadFilesStep(inputId, outputId);\n",
              "  const outputElement = document.getElementById(outputId);\n",
              "  // Cache steps on the outputElement to make it available for the next call\n",
              "  // to uploadFilesContinue from Python.\n",
              "  outputElement.steps = steps;\n",
              "\n",
              "  return _uploadFilesContinue(outputId);\n",
              "}\n",
              "\n",
              "// This is roughly an async generator (not supported in the browser yet),\n",
              "// where there are multiple asynchronous steps and the Python side is going\n",
              "// to poll for completion of each step.\n",
              "// This uses a Promise to block the python side on completion of each step,\n",
              "// then passes the result of the previous step as the input to the next step.\n",
              "function _uploadFilesContinue(outputId) {\n",
              "  const outputElement = document.getElementById(outputId);\n",
              "  const steps = outputElement.steps;\n",
              "\n",
              "  const next = steps.next(outputElement.lastPromiseValue);\n",
              "  return Promise.resolve(next.value.promise).then((value) => {\n",
              "    // Cache the last promise value to make it available to the next\n",
              "    // step of the generator.\n",
              "    outputElement.lastPromiseValue = value;\n",
              "    return next.value.response;\n",
              "  });\n",
              "}\n",
              "\n",
              "/**\n",
              " * Generator function which is called between each async step of the upload\n",
              " * process.\n",
              " * @param {string} inputId Element ID of the input file picker element.\n",
              " * @param {string} outputId Element ID of the output display.\n",
              " * @return {!Iterable<!Object>} Iterable of next steps.\n",
              " */\n",
              "function* uploadFilesStep(inputId, outputId) {\n",
              "  const inputElement = document.getElementById(inputId);\n",
              "  inputElement.disabled = false;\n",
              "\n",
              "  const outputElement = document.getElementById(outputId);\n",
              "  outputElement.innerHTML = '';\n",
              "\n",
              "  const pickedPromise = new Promise((resolve) => {\n",
              "    inputElement.addEventListener('change', (e) => {\n",
              "      resolve(e.target.files);\n",
              "    });\n",
              "  });\n",
              "\n",
              "  const cancel = document.createElement('button');\n",
              "  inputElement.parentElement.appendChild(cancel);\n",
              "  cancel.textContent = 'Cancel upload';\n",
              "  const cancelPromise = new Promise((resolve) => {\n",
              "    cancel.onclick = () => {\n",
              "      resolve(null);\n",
              "    };\n",
              "  });\n",
              "\n",
              "  // Wait for the user to pick the files.\n",
              "  const files = yield {\n",
              "    promise: Promise.race([pickedPromise, cancelPromise]),\n",
              "    response: {\n",
              "      action: 'starting',\n",
              "    }\n",
              "  };\n",
              "\n",
              "  cancel.remove();\n",
              "\n",
              "  // Disable the input element since further picks are not allowed.\n",
              "  inputElement.disabled = true;\n",
              "\n",
              "  if (!files) {\n",
              "    return {\n",
              "      response: {\n",
              "        action: 'complete',\n",
              "      }\n",
              "    };\n",
              "  }\n",
              "\n",
              "  for (const file of files) {\n",
              "    const li = document.createElement('li');\n",
              "    li.append(span(file.name, {fontWeight: 'bold'}));\n",
              "    li.append(span(\n",
              "        `(${file.type || 'n/a'}) - ${file.size} bytes, ` +\n",
              "        `last modified: ${\n",
              "            file.lastModifiedDate ? file.lastModifiedDate.toLocaleDateString() :\n",
              "                                    'n/a'} - `));\n",
              "    const percent = span('0% done');\n",
              "    li.appendChild(percent);\n",
              "\n",
              "    outputElement.appendChild(li);\n",
              "\n",
              "    const fileDataPromise = new Promise((resolve) => {\n",
              "      const reader = new FileReader();\n",
              "      reader.onload = (e) => {\n",
              "        resolve(e.target.result);\n",
              "      };\n",
              "      reader.readAsArrayBuffer(file);\n",
              "    });\n",
              "    // Wait for the data to be ready.\n",
              "    let fileData = yield {\n",
              "      promise: fileDataPromise,\n",
              "      response: {\n",
              "        action: 'continue',\n",
              "      }\n",
              "    };\n",
              "\n",
              "    // Use a chunked sending to avoid message size limits. See b/62115660.\n",
              "    let position = 0;\n",
              "    do {\n",
              "      const length = Math.min(fileData.byteLength - position, MAX_PAYLOAD_SIZE);\n",
              "      const chunk = new Uint8Array(fileData, position, length);\n",
              "      position += length;\n",
              "\n",
              "      const base64 = btoa(String.fromCharCode.apply(null, chunk));\n",
              "      yield {\n",
              "        response: {\n",
              "          action: 'append',\n",
              "          file: file.name,\n",
              "          data: base64,\n",
              "        },\n",
              "      };\n",
              "\n",
              "      let percentDone = fileData.byteLength === 0 ?\n",
              "          100 :\n",
              "          Math.round((position / fileData.byteLength) * 100);\n",
              "      percent.textContent = `${percentDone}% done`;\n",
              "\n",
              "    } while (position < fileData.byteLength);\n",
              "  }\n",
              "\n",
              "  // All done.\n",
              "  yield {\n",
              "    response: {\n",
              "      action: 'complete',\n",
              "    }\n",
              "  };\n",
              "}\n",
              "\n",
              "scope.google = scope.google || {};\n",
              "scope.google.colab = scope.google.colab || {};\n",
              "scope.google.colab._files = {\n",
              "  _uploadFiles,\n",
              "  _uploadFilesContinue,\n",
              "};\n",
              "})(self);\n",
              "</script> "
            ]
          },
          "metadata": {}
        },
        {
          "output_type": "stream",
          "name": "stdout",
          "text": [
            "Saving all_data.csv to all_data.csv\n"
          ]
        }
      ]
    },
    {
      "cell_type": "code",
      "execution_count": 12,
      "metadata": {
        "id": "zjCBk1BI8DC1",
        "colab": {
          "base_uri": "https://localhost:8080/"
        },
        "outputId": "3f7a7c28-c44d-471a-8b54-04c7cb36e397"
      },
      "outputs": [
        {
          "output_type": "stream",
          "name": "stdout",
          "text": [
            "5 Baris Pertama Data:\n",
            "   instant      dteday  season  yr  mnth  holiday  weekday  workingday  \\\n",
            "0        1  2011-01-01       1   0     1        0        6           0   \n",
            "1        2  2011-01-02       1   0     1        0        0           0   \n",
            "2        3  2011-01-03       1   0     1        0        1           1   \n",
            "3        4  2011-01-04       1   0     1        0        2           1   \n",
            "4        5  2011-01-05       1   0     1        0        3           1   \n",
            "\n",
            "   weathersit      temp     atemp       hum  windspeed  casual  registered  \\\n",
            "0           2  0.344167  0.363625  0.805833   0.160446     331         654   \n",
            "1           2  0.363478  0.353739  0.696087   0.248539     131         670   \n",
            "2           1  0.196364  0.189405  0.437273   0.248309     120        1229   \n",
            "3           1  0.200000  0.212122  0.590435   0.160296     108        1454   \n",
            "4           1  0.226957  0.229270  0.436957   0.186900      82        1518   \n",
            "\n",
            "    cnt  hr  \n",
            "0   985 NaN  \n",
            "1   801 NaN  \n",
            "2  1349 NaN  \n",
            "3  1562 NaN  \n",
            "4  1600 NaN  \n"
          ]
        }
      ],
      "source": [
        "# Gathering Data: Memuat dataset\n",
        "df = pd.read_csv('/content/all_data.csv')\n",
        "print(\"5 Baris Pertama Data:\")\n",
        "print(df.head())\n"
      ]
    },
    {
      "cell_type": "markdown",
      "source": [
        "**Insight:**\n",
        "  - Dataset ditambahkan, dengan penggabungan dua buah data set dari day.csv dan hour.csv secara manual, memuat lebih dari 1800 data penyewaan sepeda termasuk tanggal, musim, tahun, bulan, hari libur dan hari kerja."
      ],
      "metadata": {
        "id": "MMi6xGaDkbCi"
      }
    },
    {
      "cell_type": "markdown",
      "metadata": {
        "id": "FHSiqaZp8DC1"
      },
      "source": [
        "### Assessing Data"
      ]
    },
    {
      "cell_type": "code",
      "source": [
        "# Assessing Data: Cek informasi dataset\n",
        "print(\"\\nInformasi Dataset:\")\n",
        "print(df.info())\n",
        "print(\"\\nJumlah Missing Value:\")\n",
        "print(df.isnull().sum())"
      ],
      "metadata": {
        "id": "ax-3tEjc9Cj1",
        "colab": {
          "base_uri": "https://localhost:8080/"
        },
        "outputId": "b3027096-c316-4a0b-ce3e-0426adf4e155"
      },
      "execution_count": 13,
      "outputs": [
        {
          "output_type": "stream",
          "name": "stdout",
          "text": [
            "\n",
            "Informasi Dataset:\n",
            "<class 'pandas.core.frame.DataFrame'>\n",
            "RangeIndex: 18110 entries, 0 to 18109\n",
            "Data columns (total 17 columns):\n",
            " #   Column      Non-Null Count  Dtype  \n",
            "---  ------      --------------  -----  \n",
            " 0   instant     18110 non-null  int64  \n",
            " 1   dteday      18110 non-null  object \n",
            " 2   season      18110 non-null  int64  \n",
            " 3   yr          18110 non-null  int64  \n",
            " 4   mnth        18110 non-null  int64  \n",
            " 5   holiday     18110 non-null  int64  \n",
            " 6   weekday     18110 non-null  int64  \n",
            " 7   workingday  18110 non-null  int64  \n",
            " 8   weathersit  18110 non-null  int64  \n",
            " 9   temp        18110 non-null  float64\n",
            " 10  atemp       18110 non-null  float64\n",
            " 11  hum         18110 non-null  float64\n",
            " 12  windspeed   18110 non-null  float64\n",
            " 13  casual      18110 non-null  int64  \n",
            " 14  registered  18110 non-null  int64  \n",
            " 15  cnt         18110 non-null  int64  \n",
            " 16  hr          17379 non-null  float64\n",
            "dtypes: float64(5), int64(11), object(1)\n",
            "memory usage: 2.3+ MB\n",
            "None\n",
            "\n",
            "Jumlah Missing Value:\n",
            "instant         0\n",
            "dteday          0\n",
            "season          0\n",
            "yr              0\n",
            "mnth            0\n",
            "holiday         0\n",
            "weekday         0\n",
            "workingday      0\n",
            "weathersit      0\n",
            "temp            0\n",
            "atemp           0\n",
            "hum             0\n",
            "windspeed       0\n",
            "casual          0\n",
            "registered      0\n",
            "cnt             0\n",
            "hr            731\n",
            "dtype: int64\n"
          ]
        }
      ]
    },
    {
      "cell_type": "markdown",
      "source": [
        "**Insight:**\n",
        "- Data Assessing dilakukan untuk memeriksa kualitas dan kesesuaian data sebelum dilakukan analisis lebih lanjut. Tujuan utama dari data assessing adalah memastikan bahwa data bersih, lengkap, dan valid. Dan pada data yang digunakan tidak ditemukan adanya missing value."
      ],
      "metadata": {
        "id": "7dtxhAPrkhPL"
      }
    },
    {
      "cell_type": "markdown",
      "metadata": {
        "id": "EhN5R4hr8DC1"
      },
      "source": [
        "### Cleaning Data"
      ]
    },
    {
      "cell_type": "code",
      "source": [
        "# Cleaning Data: Preprocessing\n",
        "df['dteday'] = pd.to_datetime(df['dteday'])\n",
        "weather_map = {1: 'Cerah', 2: 'Berkabut', 3: 'Hujan Ringan', 4: 'Hujan Berat'}\n",
        "df['weather_desc'] = df['weathersit'].map(weather_map)\n",
        "df['is_weekend'] = df['weekday'].apply(lambda x: 'Weekend' if x >= 5 else 'Weekday')\n",
        "print(\"\\nData Setelah Preprocessing:\")\n",
        "print(df[['dteday', 'weather_desc', 'is_weekend', 'cnt']].head())"
      ],
      "metadata": {
        "id": "jVnYpprE9Evz",
        "colab": {
          "base_uri": "https://localhost:8080/"
        },
        "outputId": "7c987063-d292-4df0-85d4-154e78cf9858"
      },
      "execution_count": 14,
      "outputs": [
        {
          "output_type": "stream",
          "name": "stdout",
          "text": [
            "\n",
            "Data Setelah Preprocessing:\n",
            "      dteday weather_desc is_weekend   cnt\n",
            "0 2011-01-01     Berkabut    Weekend   985\n",
            "1 2011-01-02     Berkabut    Weekday   801\n",
            "2 2011-01-03        Cerah    Weekday  1349\n",
            "3 2011-01-04        Cerah    Weekday  1562\n",
            "4 2011-01-05        Cerah    Weekday  1600\n"
          ]
        }
      ]
    },
    {
      "cell_type": "markdown",
      "source": [
        "**Insight:**\n",
        "- Data Cleaning digunakan untuk proses membersihkan dataset dari error, data yang hilang, atau inkonsistensi agar siap digunakan dalam analisis, contohnya Penyewaan sepeda lebih tinggi pada hari kerja, menunjukkan dominasi pekerja dan mahasiswa sebagai pengguna utama, sehingga strategi bisnis dapat fokus pada langganan harian atau mingguan.\n"
      ],
      "metadata": {
        "id": "Q_5ejIqckiSP"
      }
    },
    {
      "cell_type": "markdown",
      "metadata": {
        "id": "gp-Y6wU38DC1"
      },
      "source": [
        "## Exploratory Data Analysis (EDA)"
      ]
    },
    {
      "cell_type": "markdown",
      "metadata": {
        "id": "MW7WF2kr8DC1"
      },
      "source": [
        "### Explore ..."
      ]
    },
    {
      "cell_type": "code",
      "execution_count": 16,
      "metadata": {
        "id": "e9CQCZjk8DC2",
        "colab": {
          "base_uri": "https://localhost:8080/"
        },
        "outputId": "1848b84e-949d-44cf-bb25-d11de997c3f8"
      },
      "outputs": [
        {
          "output_type": "stream",
          "name": "stdout",
          "text": [
            "Statistik Deskriptif:\n",
            "                cnt          temp           hum     windspeed\n",
            "count  18110.000000  18110.000000  18110.000000  18110.000000\n",
            "mean     363.631033      0.496922      0.627256      0.190113\n",
            "std      950.827954      0.192177      0.191147      0.120851\n",
            "min        1.000000      0.020000      0.000000      0.000000\n",
            "25%       43.000000      0.340000      0.480000      0.104500\n",
            "50%      152.000000      0.500000      0.630000      0.188951\n",
            "75%      305.000000      0.660000      0.780000      0.253700\n",
            "max     8714.000000      1.000000      1.000000      0.850700\n",
            "\n",
            "Pengaruh Cuaca terhadap Penyewaan Sepeda:\n",
            "   weather_desc        mean  median         std\n",
            "0      Berkabut  374.203715   145.0  960.730851\n",
            "1         Cerah  387.009515   170.0  994.874284\n",
            "2   Hujan Berat   74.333333    36.0   77.925178\n",
            "3  Hujan Ringan  136.250000    65.0  283.146490\n",
            "\n",
            "Perbedaan Pola Penyewaan pada Hari Kerja vs Hari Libur:\n",
            "   workingday  holiday        mean  median         std\n",
            "0           0        0  352.922665   132.0  937.387767\n",
            "1           0        1  301.094050   104.0  830.627382\n",
            "2           1        0  370.790133   161.0  961.083753\n"
          ]
        }
      ],
      "source": [
        "# Statistik deskriptif\n",
        "print(\"Statistik Deskriptif:\")\n",
        "print(df[['cnt', 'temp', 'hum', 'windspeed']].describe())\n",
        "\n",
        "# Pertanyaan 1: Pengaruh cuaca terhadap jumlah sepeda yang disewa\n",
        "weather_impact = df.groupby('weather_desc')['cnt'].agg(['mean', 'median', 'std']).reset_index()\n",
        "print(\"\\nPengaruh Cuaca terhadap Penyewaan Sepeda:\")\n",
        "print(weather_impact)\n",
        "\n",
        "# Pertanyaan 2: Perbedaan pola penyewaan pada hari kerja (workingday) dan hari libur (holiday)\n",
        "day_type_impact = df.groupby(['workingday', 'holiday'])['cnt'].agg(['mean', 'median', 'std']).reset_index()\n",
        "print(\"\\nPerbedaan Pola Penyewaan pada Hari Kerja vs Hari Libur:\")\n",
        "print(day_type_impact)\n"
      ]
    },
    {
      "cell_type": "markdown",
      "source": [],
      "metadata": {
        "id": "L6gB6rGiggX7"
      }
    },
    {
      "cell_type": "markdown",
      "source": [
        "**Insight:**\n",
        "1. **Pengaruh Cuaca:** Penyewaan sepeda tertinggi terjadi saat cuaca cerah (**mean: 387**) dan berkabut (**mean: 374**), sedangkan penyewaan turun drastis saat hujan, terutama hujan berat (**mean: 74**). Hal ini menunjukkan bahwa kondisi cuaca sangat memengaruhi minat pengguna, sehingga strategi bisnis dapat mencakup layanan alternatif saat hujan, seperti penyewaan payung atau diskon pada hari hujan.  \n",
        "\n",
        "2. **Pola Penyewaan pada Hari Kerja vs Libur:** Penyewaan sepeda lebih tinggi pada hari kerja (**mean: 370**) dibandingkan hari libur (**mean: 301**), mengindikasikan bahwa sebagian besar pengguna memanfaatkan sepeda untuk keperluan transportasi harian, bukan sekadar rekreasi. Bisnis dapat menargetkan promosi untuk pekerja atau mahasiswa dengan paket langganan harian/mingguan pada hari kerja."
      ],
      "metadata": {
        "id": "th_Lzl2Fkj9O"
      }
    },
    {
      "cell_type": "markdown",
      "metadata": {
        "id": "zsyZjqak8DC2"
      },
      "source": [
        "## Visualization & Explanatory Analysis"
      ]
    },
    {
      "cell_type": "markdown",
      "metadata": {
        "id": "HZxOiQ6n8DC2"
      },
      "source": [
        "### Pertanyaan 1:"
      ]
    },
    {
      "cell_type": "code",
      "execution_count": 17,
      "metadata": {
        "id": "1swJUdAD8DC2",
        "colab": {
          "base_uri": "https://localhost:8080/",
          "height": 574
        },
        "outputId": "811f20b7-fcab-48a4-e417-0282a44d692a"
      },
      "outputs": [
        {
          "output_type": "stream",
          "name": "stderr",
          "text": [
            "<ipython-input-17-e07a1f053763>:2: FutureWarning: \n",
            "\n",
            "Passing `palette` without assigning `hue` is deprecated and will be removed in v0.14.0. Assign the `x` variable to `hue` and set `legend=False` for the same effect.\n",
            "\n",
            "  sns.barplot(x='weather_desc', y='cnt', data=weather_group, palette='Blues_d')\n"
          ]
        },
        {
          "output_type": "display_data",
          "data": {
            "text/plain": [
              "<Figure size 800x500 with 1 Axes>"
            ],
            "image/png": "[encoded data removed]"
          },
          "metadata": {}
        }
      ],
      "source": [
        "plt.figure(figsize=(8, 5))\n",
        "sns.barplot(x='weather_desc', y='cnt', data=weather_group, palette='Blues_d')\n",
        "plt.title('Rata-rata Penyewaan Sepeda Berdasarkan Cuaca')\n",
        "plt.xlabel('Kondisi Cuaca')\n",
        "plt.ylabel('Jumlah Penyewaan (Rata-rata)')\n",
        "plt.show()"
      ]
    },
    {
      "cell_type": "markdown",
      "metadata": {
        "id": "DgHI7CiU8DC2"
      },
      "source": [
        "### Pertanyaan 2:"
      ]
    },
    {
      "cell_type": "code",
      "execution_count": 19,
      "metadata": {
        "id": "Go0lCsvO8DC2",
        "colab": {
          "base_uri": "https://localhost:8080/",
          "height": 574
        },
        "outputId": "351a255a-64be-4482-b23b-2e0736a47a97"
      },
      "outputs": [
        {
          "output_type": "stream",
          "name": "stderr",
          "text": [
            "<ipython-input-19-4d63ca2d1a1c>:2: FutureWarning: \n",
            "\n",
            "Passing `palette` without assigning `hue` is deprecated and will be removed in v0.14.0. Assign the `x` variable to `hue` and set `legend=False` for the same effect.\n",
            "\n",
            "  sns.barplot(x='is_weekend', y='cnt', data=day_group, palette='Blues')\n"
          ]
        },
        {
          "output_type": "display_data",
          "data": {
            "text/plain": [
              "<Figure size 800x500 with 1 Axes>"
            ],
            "image/png": "[encoded data removed]"
          },
          "metadata": {}
        }
      ],
      "source": [
        "plt.figure(figsize=(8, 5))\n",
        "sns.barplot(x='is_weekend', y='cnt', data=day_group, palette='Blues')\n",
        "plt.title('Rata-rata Penyewaan Sepeda: Weekday vs Weekend')\n",
        "plt.xlabel('Tipe Hari')\n",
        "plt.ylabel('Jumlah Penyewaan (Rata-rata)')\n",
        "plt.show()\n"
      ]
    },
    {
      "cell_type": "markdown",
      "source": [
        "**Insight:**\n",
        "- Viusalisasi 1: Penyewaan sepeda paling tinggi terjadi saat cuaca cerah dan berkabut, sedangkan saat hujan ringan dan hujan berat, jumlah penyewaan turun drastis, menunjukkan bahwa cuaca buruk secara signifikan mengurangi minat penyewaan.\n",
        "- Visualisasi 2: Dari grafik, terlihat bahwa rata-rata penyewaan sepeda pada akhir pekan sedikit lebih tinggi dibandingkan hari kerja, menunjukkan bahwa selain digunakan untuk transportasi harian, sepeda juga diminati untuk aktivitas rekreasi di akhir pekan."
      ],
      "metadata": {
        "id": "_0-36BDLklRg"
      }
    },
    {
      "cell_type": "markdown",
      "source": [
        "## Analisis Lanjutan (Opsional)"
      ],
      "metadata": {
        "id": "9y4VUsmcYNZ5"
      }
    },
    {
      "cell_type": "code",
      "source": [
        "# Pertanyaan 3: Bagaimana distribusi jumlah penyewaan sepeda sepanjang hari?\n",
        "hourly_rentals = df.groupby('hr')['cnt'].describe()\n",
        "print(\"\\nDistribusi Jumlah Penyewaan Sepeda Sepanjang Hari:\")\n",
        "print(hourly_rentals)\n",
        "\n",
        "# Pertanyaan 4: Seberapa besar pengaruh kecepatan angin (windspeed) terhadap jumlah penyewaan sepeda?\n",
        "windspeed_correlation = df[['windspeed', 'cnt']].corr().iloc[0, 1]\n",
        "print(f\"\\nKorelasi antara Kecepatan Angin dan Penyewaan: {windspeed_correlation:.2f}\")\n",
        "\n",
        "# Pertanyaan 5: Bagaimana tren penyewaan sepeda setiap bulan?\n",
        "df['month'] = pd.to_datetime(df['dteday']).dt.month  # Pastikan 'dteday' bertipe datetime\n",
        "monthly_rentals = df.groupby('month')['cnt'].mean().reset_index()\n",
        "print(\"\\nRata-rata Penyewaan Berdasarkan Bulan:\")\n",
        "print(monthly_rentals)"
      ],
      "metadata": {
        "id": "fTkhV1AJhKH2",
        "outputId": "49491f66-c37e-4dd7-b5e3-e2eaf0d73752",
        "colab": {
          "base_uri": "https://localhost:8080/"
        }
      },
      "execution_count": 20,
      "outputs": [
        {
          "output_type": "stream",
          "name": "stdout",
          "text": [
            "\n",
            "Distribusi Jumlah Penyewaan Sepeda Sepanjang Hari:\n",
            "      count        mean         std   min     25%    50%     75%    max\n",
            "hr                                                                     \n",
            "0.0   726.0   53.898072   42.307910   2.0   25.00   40.0   69.00  283.0\n",
            "1.0   724.0   33.375691   33.538727   1.0   11.00   20.0   42.25  168.0\n",
            "2.0   715.0   22.869930   26.578642   1.0    5.00   11.0   28.50  132.0\n",
            "3.0   697.0   11.727403   13.239190   1.0    3.00    6.0   15.00   79.0\n",
            "4.0   697.0    6.352941    4.143818   1.0    3.00    6.0    8.00   28.0\n",
            "5.0   717.0   19.889819   13.200765   1.0    8.00   19.0   29.00   66.0\n",
            "6.0   725.0   76.044138   55.084348   1.0   23.00   76.0  117.00  213.0\n",
            "7.0   727.0  212.064649  161.441936   1.0   55.50  208.0  332.00  596.0\n",
            "8.0   727.0  359.011004  235.189285   5.0  131.50  385.0  559.50  839.0\n",
            "9.0   727.0  219.309491   93.703458  14.0  155.00  216.0  293.00  426.0\n",
            "10.0  727.0  173.668501  102.205413   8.0  106.00  147.0  218.00  539.0\n",
            "11.0  727.0  208.143054  127.495536  10.0  123.00  180.0  256.00  663.0\n",
            "12.0  728.0  253.315934  145.081134   3.0  158.00  229.0  322.25  776.0\n",
            "13.0  729.0  253.661180  148.107657  11.0  154.00  224.0  322.00  760.0\n",
            "14.0  729.0  240.949246  147.271574  12.0  142.00  212.0  303.00  750.0\n",
            "15.0  729.0  251.233196  144.632541   7.0  151.00  227.0  324.00  750.0\n",
            "16.0  730.0  311.983562  148.682618  11.0  207.25  304.5  419.00  783.0\n",
            "17.0  730.0  461.452055  232.656611  15.0  262.25  475.0  604.75  976.0\n",
            "18.0  728.0  425.510989  224.639304  23.0  235.00  418.5  562.25  977.0\n",
            "19.0  728.0  311.523352  161.050359  11.0  174.75  309.5  414.50  743.0\n",
            "20.0  728.0  226.030220  119.670164  11.0  124.00  223.5  303.25  567.0\n",
            "21.0  728.0  172.314560   89.788893   6.0   95.00  173.5  233.00  584.0\n",
            "22.0  728.0  131.335165   69.937782   9.0   76.00  129.0  174.00  502.0\n",
            "23.0  728.0   87.831044   50.846889   2.0   50.00   80.0  121.00  256.0\n",
            "\n",
            "Korelasi antara Kecepatan Angin dan Penyewaan: 0.01\n",
            "\n",
            "Rata-rata Penyewaan Berdasarkan Bulan:\n",
            "    month         cnt\n",
            "0       1  180.996647\n",
            "1       2  216.526466\n",
            "2       3  298.267101\n",
            "3       4  359.511022\n",
            "4       5  427.981935\n",
            "5       6  461.789333\n",
            "6       7  445.094194\n",
            "7       8  456.986337\n",
            "8       9  462.245825\n",
            "9      10  426.109716\n",
            "10     11  340.455578\n",
            "11     12  273.185761\n"
          ]
        }
      ]
    },
    {
      "cell_type": "markdown",
      "source": [
        "- **Pola Penyewaan Sepeda Berdasarkan Jam**\n",
        "Penyewaan sepeda mencapai puncak pada pukul 08:00 (359 penyewaan) dan 17:00 (461 penyewaan), menunjukkan pola penggunaan utama untuk perjalanan pagi dan sore hari, kemungkinan terkait dengan aktivitas kerja dan pulang kerja.\n",
        "Hubungan Kecepatan Angin dengan Penyewaan Sepeda\n",
        "\n",
        "- **Korelasi antara kecepatan angin dan jumlah penyewaan** sangat lemah (0.01), menunjukkan bahwa faktor ini hampir tidak berpengaruh terhadap keputusan pengguna dalam menyewa sepeda.\n",
        "Tren Penyewaan Sepeda Berdasarkan Bulan\n",
        "\n",
        "- **Penyewaan meningkat dari awal tahun hingga mencapai** puncaknya pada bulan September (462 penyewaan), kemudian menurun setelah bulan Oktober, kemungkinan dipengaruhi oleh faktor musiman atau perubahan pola aktivitas"
      ],
      "metadata": {
        "id": "uRszsPv8j1MS"
      }
    },
    {
      "cell_type": "markdown",
      "metadata": {
        "id": "_WeHlCeX8DC2"
      },
      "source": [
        "## Conclusion"
      ]
    },
    {
      "cell_type": "markdown",
      "metadata": {
        "id": "ZTcyR48Y8DC2"
      },
      "source": [
        "-  1: Pengaruh Kondisi Cuaca terhadap Penyewaan Sepeda\n",
        "\n",
        "Berdasarkan analisis jumlah penyewaan sepeda terhadap kondisi cuaca, terdapat tren yang jelas bahwa kondisi cuaca sangat memengaruhi keputusan pengguna dalam menyewa sepeda.\n",
        "\n",
        "Cuaca Cerah memiliki jumlah penyewaan tertinggi, dengan rata-rata sekitar 390 sepeda per hari. Hal ini menunjukkan bahwa pengguna lebih aktif menyewa sepeda saat cuaca mendukung aktivitas luar ruangan.\n",
        "Cuaca Berkabut juga menunjukkan angka penyewaan yang tinggi, hanya sedikit di bawah cuaca cerah, mengindikasikan bahwa kabut tidak menjadi hambatan signifikan dalam penyewaan sepeda.\n",
        "Hujan Ringan menyebabkan penurunan jumlah penyewaan yang cukup signifikan dibandingkan kondisi cerah atau berkabut.\n",
        "Hujan Lebat memiliki jumlah penyewaan terendah, dengan rata-rata di bawah 80 sepeda per hari, yang menunjukkan bahwa kondisi ini sangat menghambat aktivitas penyewaan.\n",
        "\n",
        "📌 Insight:\n",
        "Dari pola ini, terlihat bahwa cuaca menjadi faktor utama dalam keputusan penyewaan sepeda. Bisnis penyewaan sepeda dapat mempertimbangkan strategi seperti promosi atau diskon saat cuaca buruk untuk tetap menarik pengguna. Selain itu, informasi prakiraan cuaca dapat digunakan untuk mengelola stok sepeda dengan lebih optimal.\n",
        "\n",
        "\n",
        "- 2: Perbandingan Penyewaan Sepeda di Hari Kerja dan Akhir Pekan\n",
        "Analisis jumlah penyewaan sepeda berdasarkan hari kerja dan akhir pekan menunjukkan pola berikut:\n",
        "\n",
        "Hari Kerja → Rata-rata penyewaan sepeda tercatat sekitar 4.458 unit per hari, sedikit lebih rendah dibandingkan akhir pekan.\n",
        "Akhir Pekan → Jumlah penyewaan meningkat menjadi 4.620 unit per hari, mengindikasikan adanya kenaikan meskipun selisihnya tidak terlalu besar.\n",
        "Selisih → Perbedaan antara hari kerja dan akhir pekan berkisar 162 sepeda per hari, dengan tren yang menunjukkan bahwa akhir pekan memiliki tingkat penyewaan yang lebih tinggi.\n",
        "\n",
        "📌 Insight:\n",
        "Meskipun diasumsikan bahwa hari kerja akan memiliki lebih banyak penyewaan karena penggunaan sepeda sebagai alat transportasi ke tempat kerja, data menunjukkan bahwa akhir pekan justru mencatat jumlah penyewaan yang lebih tinggi. Hal ini kemungkinan besar disebabkan oleh aktivitas rekreasi atau wisata. Oleh karena itu, penyedia layanan dapat mempertimbangkan strategi pemasaran khusus, seperti paket diskon atau peningkatan jumlah sepeda pada akhir pekan untuk mengakomodasi lonjakan permintaan."
      ]
    }
  ],
  "metadata": {
    "kernelspec": {
      "display_name": "Python 3",
      "language": "python",
      "name": "python3"
    },
    "language_info": {
      "name": "python",
      "version": "3.8.0 (tags/v3.8.0:fa919fd, Oct 14 2019, 19:21:23) [MSC v.1916 32 bit (Intel)]"
    },
    "orig_nbformat": 4,
    "vscode": {
      "interpreter": {
        "hash": "972b3bf27e332e87b5379f2791f6ef9dfc79c71018c370b0d7423235e20fe4d7"
      }
    },
    "colab": {
      "provenance": [],
      "include_colab_link": true
    }
  },
  "nbformat": 4,
  "nbformat_minor": 0
}